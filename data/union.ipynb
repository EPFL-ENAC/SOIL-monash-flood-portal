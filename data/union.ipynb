{
 "cells": [
  {
   "cell_type": "code",
   "execution_count": null,
   "metadata": {},
   "outputs": [],
   "source": [
    "from geopandas import read_file\n",
    "import numpy as np\n",
    "from sqlalchemy import create_engine,text\n",
    "\n",
    "# Replace with enacit4r-tiles postgres credentials (enactit4r keeweb)\n",
    "dbuser = 'postgres'\n",
    "dbpassword = 'password'\n",
    "dbhost = 'localhost:25432'\n",
    "# dbhost = 'enacit4r-tiles.epfl.ch:25432'\n",
    "dbname = 'db'\n",
    "engine = create_engine(f\"postgresql://{dbuser}:{dbpassword}@{dbhost}/{dbname}\")  \n",
    "schema = 'monash'\n",
    "\n",
    "input_folder = '~/projects/monash_data/work/original/FloodMaps_V2_ 18102023/18102023_Flood Maps/GIS files'"
   ]
  },
  {
   "cell_type": "code",
   "execution_count": null,
   "metadata": {},
   "outputs": [],
   "source": [
    "def write_to_db(ari_input, table, label_field):\n",
    "    ari_input['cc']['100'].rename(columns={'gridcode': 'code_100_cc'}, inplace=True)\n",
    "    ari_input['cc']['100'].drop(columns=['Id', label_field], inplace=True)\n",
    "    ari_input['cc']['50'].rename(columns={'gridcode': 'code_50_cc'}, inplace=True)\n",
    "    ari_input['cc']['50'].drop(columns=['Id', label_field], inplace=True)\n",
    "    ari_input['cc']['20'].rename(columns={'gridcode': 'code_20_cc'}, inplace=True)\n",
    "    ari_input['cc']['20'].drop(columns=['Id', label_field], inplace=True)\n",
    "\n",
    "    ari_input['nocc']['100'].rename(columns={'gridcode': 'code_100_base'}, inplace=True)\n",
    "    ari_input['nocc']['100'].drop(columns=['Id', label_field], inplace=True)\n",
    "    ari_input['nocc']['50'].rename(columns={'gridcode': 'code_50_base'}, inplace=True)\n",
    "    ari_input['nocc']['50'].drop(columns=['Id', label_field], inplace=True)\n",
    "    ari_input['nocc']['20'].rename(columns={'gridcode': 'code_20_base'}, inplace=True)\n",
    "    ari_input['nocc']['20'].drop(columns=['Id', label_field], inplace=True)\n",
    "\n",
    "    aricc = ari_input['cc']['100'].overlay(ari_input['cc']['50'], how='union', keep_geom_type=True).overlay(ari_input['cc']['20'], how='union', keep_geom_type=True)\n",
    "    arinocc = ari_input['nocc']['100'].overlay(ari_input['nocc']['50'], how='union', keep_geom_type=True).overlay(ari_input['nocc']['20'], how='union', keep_geom_type=True)\n",
    "    ari = arinocc.overlay(aricc, how='union', keep_geom_type=True)\n",
    "\n",
    "    for key in ['code_100_cc', 'code_50_cc', 'code_20_cc', 'code_100_base', 'code_50_base', 'code_20_base']:\n",
    "        ari[key] = ari[key].apply(lambda x: 0 if np.isnan(x) else int(x))\n",
    "    \n",
    "    ari.to_postgis(table, engine, if_exists='replace', schema=schema, index=True, index_label='fid')\n",
    "    with engine.connect() as connection:\n",
    "        connection.execute(text(f\"ALTER TABLE {schema}.{table} ADD PRIMARY KEY (fid);\"))\n",
    "        connection.commit()"
   ]
  },
  {
   "cell_type": "code",
   "execution_count": null,
   "metadata": {},
   "outputs": [],
   "source": [
    "ari_input = {\n",
    "  'cc': {\n",
    "    '100': read_file(f'{input_folder}/Risk_v2/ari100cc_risk.shp'),\n",
    "    '50': read_file(f'{input_folder}/Risk_v2/ari50cc_risk.shp'),\n",
    "    '20': read_file(f'{input_folder}/Risk_v2/ari20cc_risk.shp'),\n",
    "  },\n",
    "  'nocc': {\n",
    "    '100': read_file(f'{input_folder}/Risk_v2/ari100nocc_risk.shp'),\n",
    "    '50': read_file(f'{input_folder}/Risk_v2/ari50nocc_risk.shp'),\n",
    "    '20': read_file(f'{input_folder}/Risk_v2/ari20nocc_risk.shp'),\n",
    "  }\n",
    "}\n",
    "\n",
    "write_to_db(ari_input, 'ari_risk', 'Risk')"
   ]
  },
  {
   "cell_type": "code",
   "execution_count": null,
   "metadata": {},
   "outputs": [],
   "source": [
    "ari_input = {\n",
    "  'cc': {\n",
    "    '100': read_file(f'{input_folder}/Hazard_v2/ari100cc_hzd.shp'),\n",
    "    '50': read_file(f'{input_folder}/Hazard_v2/ari50cc_hzrd.shp'),\n",
    "    '20': read_file(f'{input_folder}/Hazard_v2/ari20cc_hzrd.shp'),\n",
    "  },\n",
    "  'nocc': {\n",
    "    '100': read_file(f'{input_folder}/Hazard_v2/ari100nocc_hzd.shp'),\n",
    "    '50': read_file(f'{input_folder}/Hazard_v2/ari50nocc_hzd.shp'),\n",
    "    '20': read_file(f'{input_folder}/Hazard_v2/ari20nocc_hzd.shp'),\n",
    "  }\n",
    "}\n",
    "\n",
    "write_to_db(ari_input, 'ari_hzd', 'Hazard')"
   ]
  }
 ],
 "metadata": {
  "kernelspec": {
   "display_name": "Python 3",
   "language": "python",
   "name": "python3"
  },
  "language_info": {
   "codemirror_mode": {
    "name": "ipython",
    "version": 3
   },
   "file_extension": ".py",
   "mimetype": "text/x-python",
   "name": "python",
   "nbconvert_exporter": "python",
   "pygments_lexer": "ipython3",
   "version": "3.10.9"
  }
 },
 "nbformat": 4,
 "nbformat_minor": 2
}
